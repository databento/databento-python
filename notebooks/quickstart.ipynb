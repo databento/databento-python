{
 "cells": [
  {
   "cell_type": "markdown",
   "id": "c632e5d2-8ae8-4bd5-bbec-af19e333098a",
   "metadata": {
    "pycharm": {
     "name": "#%% md\n"
    }
   },
   "source": [
    "# Databento Python client quickstart"
   ]
  },
  {
   "cell_type": "markdown",
   "id": "d9e94dc5-d55e-4c35-b87e-a4de198e8b6b",
   "metadata": {
    "pycharm": {
     "name": "#%% md\n"
    }
   },
   "source": [
    "**Welcome to the Databento client library quickstart tutorial!**\n",
    "\n",
    "We'll walk through how to use our client library's functionality to work with the data available from Databento.\n",
    "\n",
    "**Note:**\n",
    "\n",
    "For information on our symbology, refer to https://docs.databento.com/api-reference-historical/basics/symbology. \n",
    "\n",
    "For a more detailed API reference, refer to https://docs.databento.com/api-reference-historical.\n",
    "\n",
    "This tutorial covers the following:\n",
    "- Using the historical client to request metadata\n",
    "- Using the historical client to request time series market data\n",
    "- Working with DBNStore data I/O helper objects\n",
    "- Using the historical client to make batch data requests\n",
    "- Querying batch job states\n",
    "- Programmatically downloading batch jobs\n",
    "\n",
    "**Tip:** You can call help() on any class or method to see the 'docstring'."
   ]
  },
  {
   "cell_type": "markdown",
   "id": "cc202926-5681-498c-a08a-db7df5e8b2fb",
   "metadata": {
    "pycharm": {
     "name": "#%% md\n"
    }
   },
   "source": [
    "## Installation and setup"
   ]
  },
  {
   "cell_type": "markdown",
   "id": "d4ee19bb-f273-456f-8557-bc27ed75481a",
   "metadata": {
    "pycharm": {
     "name": "#%% md\n"
    }
   },
   "source": [
    "Firtly, ensure you have the latest `databento` client library installed:\n",
    "```bash\n",
    "pip install -U databento\n",
    "```"
   ]
  },
  {
   "cell_type": "markdown",
   "id": "32b967f0-0675-4068-bb87-eae331b4d658",
   "metadata": {
    "pycharm": {
     "name": "#%% md\n"
    }
   },
   "source": [
    "## Historical data client\n",
    "\n",
    "Once you've installed the Python client library, you can import it and initialize a historical client for requests. We'll use this `client` throughout the rest of the tutorial.\n",
    "\n",
    "To initialize a client, you need to provide a valid API key. You can find these on the API Keys page of your Databento portal at https://databento.com."
   ]
  },
  {
   "cell_type": "code",
   "execution_count": 0,
   "id": "9c5f6d59-ef17-4a94-8ba2-b012cec3010d",
   "metadata": {
    "pycharm": {
     "name": "#%%\n"
    },
    "tags": []
   },
   "outputs": [],
   "source": [
    "import databento as db\n",
    "\n",
    "client = db.Historical(key=\"YOUR_API_KEY\")"
   ]
  },
  {
   "cell_type": "markdown",
   "id": "00376c5e-0083-418a-924b-89753bc138e0",
   "metadata": {
    "pycharm": {
     "name": "#%% md\n"
    }
   },
   "source": [
    "## Requesting metadata\n",
    "\n",
    "Before we make any requests for actual data, we can look into the metadata to see what is available to download."
   ]
  },
  {
   "cell_type": "code",
   "execution_count": 0,
   "id": "c5a0a08d-962a-42ce-8fb8-3bf23741dc7c",
   "metadata": {
    "pycharm": {
     "name": "#%%\n"
    },
    "tags": []
   },
   "outputs": [
    {
     "data": {
      "text/plain": [
       "['GLBX.MDP3', 'XNAS.ITCH']"
      ]
     },
     "execution_count": 0,
     "metadata": {},
     "output_type": "execute_result"
    }
   ],
   "source": [
    "client.metadata.list_datasets()"
   ]
  },
  {
   "cell_type": "code",
   "execution_count": 0,
   "id": "18d41c7e-b82c-4236-b261-e49e089e3e23",
   "metadata": {
    "pycharm": {
     "name": "#%%\n"
    },
    "tags": []
   },
   "outputs": [
    {
     "data": {
      "text/plain": [
       "['mbo',\n",
       " 'mbp-1',\n",
       " 'mbp-10',\n",
       " 'tbbo',\n",
       " 'trades',\n",
       " 'ohlcv-1s',\n",
       " 'ohlcv-1m',\n",
       " 'ohlcv-1h',\n",
       " 'ohlcv-1d',\n",
       " 'definition']"
      ]
     },
     "execution_count": 0,
     "metadata": {},
     "output_type": "execute_result"
    }
   ],
   "source": [
    "client.metadata.list_schemas(dataset=\"GLBX.MDP3\")"
   ]
  },
  {
   "cell_type": "code",
   "execution_count": 0,
   "id": "047e44d4-7081-4885-bb47-f09fb713c449",
   "metadata": {
    "pycharm": {
     "name": "#%%\n"
    },
    "tags": []
   },
   "outputs": [
    {
     "data": {
      "text/plain": [
       "{'GLBX.MDP3': {'csv': {'trades': {'ts_recv': 'int',\n",
       "    'ts_event': 'int',\n",
       "    'ts_in_delta': 'int',\n",
       "    'publisher_id': 'int',\n",
       "    'instrument_id': 'int',\n",
       "    'action': 'string',\n",
       "    'side': 'string',\n",
       "    'flags': 'int',\n",
       "    'price': 'int',\n",
       "    'size': 'int',\n",
       "    'sequence': 'int'}}}}"
      ]
     },
     "execution_count": 0,
     "metadata": {},
     "output_type": "execute_result"
    }
   ],
   "source": [
    "client.metadata.list_fields(dataset=\"GLBX.MDP3\", schema=\"trades\", encoding=\"csv\")"
   ]
  },
  {
   "cell_type": "markdown",
   "id": "a335a762-bba0-4de5-bde3-8bce006691c9",
   "metadata": {
    "pycharm": {
     "name": "#%% md\n"
    }
   },
   "source": [
    "### Unit cost / GB\n",
    "\n",
    "To get the unit cost / GB of all the different data schemas, use this API call to the `list_unit_prices` function."
   ]
  },
  {
   "cell_type": "code",
   "execution_count": 0,
   "id": "3b0eec87-6b2e-4498-83c4-60efb7a140e0",
   "metadata": {
    "pycharm": {
     "name": "#%%\n"
    },
    "tags": []
   },
   "outputs": [
    {
     "data": {
      "text/plain": [
       "{'historical-streaming': {'mbo': 1.1,\n",
       "  'mbp-1': 2.42,\n",
       "  'mbp-10': 0.45,\n",
       "  'tbbo': 17.89,\n",
       "  'trades': 24.8,\n",
       "  'ohlcv-1s': 50.5,\n",
       "  'ohlcv-1m': 63.5,\n",
       "  'ohlcv-1h': 130.0,\n",
       "  'ohlcv-1d': 175.0,\n",
       "  'definition': 1.66}}"
      ]
     },
     "execution_count": 0,
     "metadata": {},
     "output_type": "execute_result"
    }
   ],
   "source": [
    "client.metadata.list_unit_prices(dataset=\"GLBX.MDP3\", mode=\"historical-streaming\")"
   ]
  },
  {
   "cell_type": "markdown",
   "id": "a295edaa-0cbb-4260-b97b-d3b87cce7ebc",
   "metadata": {
    "pycharm": {
     "name": "#%% md\n"
    }
   },
   "source": [
    "### Parameter setup for data cost query\n",
    "\n",
    "First, instantiate a dictionary of the query parameters for the data you're interested in."
   ]
  },
  {
   "cell_type": "code",
   "execution_count": 0,
   "id": "367e6608-5dbe-4fcd-9104-b367e001e2bf",
   "metadata": {
    "pycharm": {
     "name": "#%%\n"
    },
    "tags": []
   },
   "outputs": [],
   "source": [
    "params = {\n",
    "    \"dataset\": \"GLBX.MDP3\",\n",
    "    \"symbols\": \"ES.FUT\",\n",
    "    \"stype_in\": \"parent\",\n",
    "    \"schema\": \"mbo\",\n",
    "    \"start\": \"2022-06-10T14:30\",\n",
    "    \"end\": \"2022-06-11\",\n",
    "}"
   ]
  },
  {
   "cell_type": "markdown",
   "id": "58cf7143-b6fb-4788-9889-f2b558c05d4f",
   "metadata": {
    "pycharm": {
     "name": "#%% md\n"
    }
   },
   "source": [
    "### Data cost\n",
    "Before making a request for data, you can query the expected price in US dollars. The price is determined from the following formula: `unit_cost` * `uncompressed_size_GB`."
   ]
  },
  {
   "cell_type": "code",
   "execution_count": 0,
   "id": "60a9422e-1da0-4f72-9ecc-bed622a9988c",
   "metadata": {
    "pycharm": {
     "name": "#%%\n"
    },
    "tags": []
   },
   "outputs": [
    {
     "data": {
      "text/plain": [
       "0.7184975445270538"
      ]
     },
     "execution_count": 0,
     "metadata": {},
     "output_type": "execute_result"
    }
   ],
   "source": [
    "client.metadata.get_cost(**params)"
   ]
  },
  {
   "cell_type": "markdown",
   "id": "f288a29c-c68e-407b-80a5-f6d3c136e17a",
   "metadata": {
    "pycharm": {
     "name": "#%% md\n"
    }
   },
   "source": [
    "## Requesting time series data\n",
    "\n",
    "The rest of this tutorial involves historical time series data. Here's how to request for this data.\n",
    "\n",
    "The historical time series data is streamed into an in-memory buffer encapsulated by a `DBNStore` object, which we'll use later to work with the data.\n",
    "\n",
    "The following code sample requests for all E-mini S&P500 Futures contracts, active between 2022-06-10T14:30 and 2022-06-11 using `smart` symbology."
   ]
  },
  {
   "cell_type": "code",
   "execution_count": 0,
   "id": "fe88dd07-968a-421c-a946-1f73cb9576e5",
   "metadata": {
    "pycharm": {
     "name": "#%%\n"
    },
    "tags": []
   },
   "outputs": [],
   "source": [
    "data = client.timeseries.get_range(\n",
    "    **params,\n",
    "    limit=1000,  # <-- request limited to 1000 records\n",
    ")"
   ]
  },
  {
   "cell_type": "markdown",
   "id": "33e7c239-6050-4d55-a47a-7366873a5eeb",
   "metadata": {
    "pycharm": {
     "name": "#%% md\n"
    },
    "tags": []
   },
   "source": [
    "## Working with the DBNStore\n",
    "\n",
    "All time series data requests include a metadata header with the following specifications:\n",
    "- The original query paramaters (these can be used to re-request the data)\n",
    "- Symbology mappings"
   ]
  },
  {
   "cell_type": "markdown",
   "id": "826b8e0f-65b3-4ce1-9453-e1d63924b98f",
   "metadata": {
    "pycharm": {
     "name": "#%% md\n"
    }
   },
   "source": [
    "### Metadata properties"
   ]
  },
  {
   "cell_type": "code",
   "execution_count": 0,
   "id": "41318aee-3ffe-45cd-8218-08777537e2d2",
   "metadata": {
    "pycharm": {
     "name": "#%%\n"
    },
    "tags": []
   },
   "outputs": [
    {
     "data": {
      "text/plain": [
       "'GLBX.MDP3'"
      ]
     },
     "execution_count": 0,
     "metadata": {},
     "output_type": "execute_result"
    }
   ],
   "source": [
    "data.dataset"
   ]
  },
  {
   "cell_type": "code",
   "execution_count": 0,
   "id": "fd329859-dd1e-4315-b6e9-ae79f3761306",
   "metadata": {
    "pycharm": {
     "name": "#%%\n"
    },
    "tags": []
   },
   "outputs": [
    {
     "data": {
      "text/plain": [
       "<Schema.MBO: 'mbo'>"
      ]
     },
     "execution_count": 0,
     "metadata": {},
     "output_type": "execute_result"
    }
   ],
   "source": [
    "data.schema"
   ]
  },
  {
   "cell_type": "code",
   "execution_count": 0,
   "id": "9dd6aaf8-47f9-4153-bbcf-6403d435bb32",
   "metadata": {
    "pycharm": {
     "name": "#%%\n"
    },
    "tags": []
   },
   "outputs": [
    {
     "data": {
      "text/plain": [
       "['ES.FUT']"
      ]
     },
     "execution_count": 0,
     "metadata": {},
     "output_type": "execute_result"
    }
   ],
   "source": [
    "data.symbols"
   ]
  },
  {
   "cell_type": "code",
   "execution_count": 0,
   "id": "ad313e09-3887-4a64-9aba-fc49ebfd7761",
   "metadata": {
    "pycharm": {
     "name": "#%%\n"
    },
    "tags": []
   },
   "outputs": [
    {
     "data": {
      "text/plain": [
       "<SType.PARENT: 'parent'>"
      ]
     },
     "execution_count": 0,
     "metadata": {},
     "output_type": "execute_result"
    }
   ],
   "source": [
    "data.stype_in"
   ]
  },
  {
   "cell_type": "code",
   "execution_count": 0,
   "id": "a5e2683e-fe9a-43f0-bcc5-dc5933ee37da",
   "metadata": {
    "pycharm": {
     "name": "#%%\n"
    },
    "tags": []
   },
   "outputs": [
    {
     "data": {
      "text/plain": [
       "<SType.INSTRUMENT_ID: 'instrument_id'>"
      ]
     },
     "execution_count": 0,
     "metadata": {},
     "output_type": "execute_result"
    }
   ],
   "source": [
    "data.stype_out"
   ]
  },
  {
   "cell_type": "code",
   "execution_count": 0,
   "id": "2013de29-346a-4903-b304-280d1ef265d2",
   "metadata": {
    "pycharm": {
     "name": "#%%\n"
    },
    "tags": []
   },
   "outputs": [
    {
     "data": {
      "text/plain": [
       "Timestamp('2022-06-10 14:30:00+0000', tz='UTC')"
      ]
     },
     "execution_count": 0,
     "metadata": {},
     "output_type": "execute_result"
    }
   ],
   "source": [
    "data.start"
   ]
  },
  {
   "cell_type": "code",
   "execution_count": 0,
   "id": "f712b3f8-60ec-4ac1-baa9-d755fc046aef",
   "metadata": {
    "pycharm": {
     "name": "#%%\n"
    },
    "tags": []
   },
   "outputs": [
    {
     "data": {
      "text/plain": [
       "Timestamp('2022-06-12 00:00:00+0000', tz='UTC')"
      ]
     },
     "execution_count": 0,
     "metadata": {},
     "output_type": "execute_result"
    }
   ],
   "source": [
    "data.end"
   ]
  },
  {
   "cell_type": "code",
   "execution_count": 0,
   "id": "057cf57d-9ab9-44bb-9327-c1f2df56c7fa",
   "metadata": {
    "pycharm": {
     "name": "#%%\n"
    },
    "tags": []
   },
   "outputs": [
    {
     "data": {
      "text/plain": [
       "1000"
      ]
     },
     "execution_count": 0,
     "metadata": {},
     "output_type": "execute_result"
    }
   ],
   "source": [
    "data.limit"
   ]
  },
  {
   "cell_type": "code",
   "execution_count": 0,
   "id": "337b3de4-2d86-4772-a740-5dc302711bde",
   "metadata": {
    "pycharm": {
     "name": "#%%\n"
    },
    "tags": []
   },
   "outputs": [
    {
     "data": {
      "text/plain": [
       "<Compression.ZSTD: 'zstd'>"
      ]
     },
     "execution_count": 0,
     "metadata": {},
     "output_type": "execute_result"
    }
   ],
   "source": [
    "data.compression"
   ]
  },
  {
   "cell_type": "markdown",
   "id": "2e14f337-412e-4c2d-ab8c-6c8ad45ed5e4",
   "metadata": {
    "pycharm": {
     "name": "#%% md\n"
    }
   },
   "source": [
    "### Symbology resolution\n",
    "\n",
    "The metadata contains all information which would have been provided in a `symbology.resolve` request:"
   ]
  },
  {
   "cell_type": "code",
   "execution_count": 0,
   "id": "7df4a48e-7c87-4035-af48-bd7abdf09e35",
   "metadata": {
    "pycharm": {
     "name": "#%%\n"
    },
    "tags": []
   },
   "outputs": [
    {
     "data": {
      "text/plain": [
       "{'symbols': ['ES.FUT'],\n",
       " 'stype_in': 'parent',\n",
       " 'stype_out': 'instrument_id',\n",
       " 'start_date': '2022-06-10',\n",
       " 'end_date': '2022-06-12',\n",
       " 'partial': [],\n",
       " 'not_found': [],\n",
       " 'mappings': {'ESZ5': [{'start_date': datetime.date(2022, 6, 10),\n",
       "    'end_date': datetime.date(2022, 6, 12),\n",
       "    'symbol': '294973'}],\n",
       "  'ESM2-ESH3': [{'start_date': datetime.date(2022, 6, 10),\n",
       "    'end_date': datetime.date(2022, 6, 12),\n",
       "    'symbol': '6817'}],\n",
       "  'ESZ3-ESM4': [{'start_date': datetime.date(2022, 6, 10),\n",
       "    'end_date': datetime.date(2022, 6, 12),\n",
       "    'symbol': '2826'}],\n",
       "  'ESZ2': [{'start_date': datetime.date(2022, 6, 10),\n",
       "    'end_date': datetime.date(2022, 6, 12),\n",
       "    'symbol': '206323'}],\n",
       "  'ESM3': [{'start_date': datetime.date(2022, 6, 10),\n",
       "    'end_date': datetime.date(2022, 6, 12),\n",
       "    'symbol': '95414'}],\n",
       "  'ESM2-ESM3': [{'start_date': datetime.date(2022, 6, 10),\n",
       "    'end_date': datetime.date(2022, 6, 12),\n",
       "    'symbol': '25719'}],\n",
       "  'ESH3-ESU3': [{'start_date': datetime.date(2022, 6, 10),\n",
       "    'end_date': datetime.date(2022, 6, 12),\n",
       "    'symbol': '20604'}],\n",
       "  'ESU3-ESH4': [{'start_date': datetime.date(2022, 6, 10),\n",
       "    'end_date': datetime.date(2022, 6, 12),\n",
       "    'symbol': '18909'}],\n",
       "  'ESZ4': [{'start_date': datetime.date(2022, 6, 10),\n",
       "    'end_date': datetime.date(2022, 6, 12),\n",
       "    'symbol': '183748'}],\n",
       "  'ESZ2-ESH3': [{'start_date': datetime.date(2022, 6, 10),\n",
       "    'end_date': datetime.date(2022, 6, 12),\n",
       "    'symbol': '344396'}],\n",
       "  'ESZ2-ESM3': [{'start_date': datetime.date(2022, 6, 10),\n",
       "    'end_date': datetime.date(2022, 6, 12),\n",
       "    'symbol': '19355'}],\n",
       "  'ESH4': [{'start_date': datetime.date(2022, 6, 10),\n",
       "    'end_date': datetime.date(2022, 6, 12),\n",
       "    'symbol': '17077'}],\n",
       "  'ESM4': [{'start_date': datetime.date(2022, 6, 10),\n",
       "    'end_date': datetime.date(2022, 6, 12),\n",
       "    'symbol': '5602'}],\n",
       "  'ESM2-ESU2': [{'start_date': datetime.date(2022, 6, 10),\n",
       "    'end_date': datetime.date(2022, 6, 12),\n",
       "    'symbol': '96293'}],\n",
       "  'ESM3-ESZ3': [{'start_date': datetime.date(2022, 6, 10),\n",
       "    'end_date': datetime.date(2022, 6, 12),\n",
       "    'symbol': '37976'}],\n",
       "  'ESU2-ESM3': [{'start_date': datetime.date(2022, 6, 10),\n",
       "    'end_date': datetime.date(2022, 6, 12),\n",
       "    'symbol': '26998'}],\n",
       "  'ESH3': [{'start_date': datetime.date(2022, 6, 10),\n",
       "    'end_date': datetime.date(2022, 6, 12),\n",
       "    'symbol': '206299'}],\n",
       "  'ESU2-ESZ2': [{'start_date': datetime.date(2022, 6, 10),\n",
       "    'end_date': datetime.date(2022, 6, 12),\n",
       "    'symbol': '431796'}],\n",
       "  'ESM2-ESZ2': [{'start_date': datetime.date(2022, 6, 10),\n",
       "    'end_date': datetime.date(2022, 6, 12),\n",
       "    'symbol': '431109'}],\n",
       "  'ESM4-ESU4': [{'start_date': datetime.date(2022, 6, 10),\n",
       "    'end_date': datetime.date(2022, 6, 12),\n",
       "    'symbol': '4155'}],\n",
       "  'ESH3-ESM3': [{'start_date': datetime.date(2022, 6, 10),\n",
       "    'end_date': datetime.date(2022, 6, 12),\n",
       "    'symbol': '431569'}],\n",
       "  'ESM2': [{'start_date': datetime.date(2022, 6, 10),\n",
       "    'end_date': datetime.date(2022, 6, 12),\n",
       "    'symbol': '3403'}],\n",
       "  'ESZ3': [{'start_date': datetime.date(2022, 6, 10),\n",
       "    'end_date': datetime.date(2022, 6, 12),\n",
       "    'symbol': '314863'}],\n",
       "  'ESZ2-ESU3': [{'start_date': datetime.date(2022, 6, 10),\n",
       "    'end_date': datetime.date(2022, 6, 12),\n",
       "    'symbol': '36396'}],\n",
       "  'ESZ6': [{'start_date': datetime.date(2022, 6, 10),\n",
       "    'end_date': datetime.date(2022, 6, 12),\n",
       "    'symbol': '10252'}],\n",
       "  'ESZ2-ESZ3': [{'start_date': datetime.date(2022, 6, 10),\n",
       "    'end_date': datetime.date(2022, 6, 12),\n",
       "    'symbol': '4931'}],\n",
       "  'ESH3-ESZ3': [{'start_date': datetime.date(2022, 6, 10),\n",
       "    'end_date': datetime.date(2022, 6, 12),\n",
       "    'symbol': '16567'}],\n",
       "  'ESU3': [{'start_date': datetime.date(2022, 6, 10),\n",
       "    'end_date': datetime.date(2022, 6, 12),\n",
       "    'symbol': '3445'}],\n",
       "  'ESU2': [{'start_date': datetime.date(2022, 6, 10),\n",
       "    'end_date': datetime.date(2022, 6, 12),\n",
       "    'symbol': '97042'}],\n",
       "  'ESM3-ESU3': [{'start_date': datetime.date(2022, 6, 10),\n",
       "    'end_date': datetime.date(2022, 6, 12),\n",
       "    'symbol': '28177'}],\n",
       "  'ESU3-ESZ3': [{'start_date': datetime.date(2022, 6, 10),\n",
       "    'end_date': datetime.date(2022, 6, 12),\n",
       "    'symbol': '35947'}],\n",
       "  'ESM3-ESH4': [{'start_date': datetime.date(2022, 6, 10),\n",
       "    'end_date': datetime.date(2022, 6, 12),\n",
       "    'symbol': '2018'}],\n",
       "  'ESU4': [{'start_date': datetime.date(2022, 6, 10),\n",
       "    'end_date': datetime.date(2022, 6, 12),\n",
       "    'symbol': '118'}],\n",
       "  'ESU2-ESU3': [{'start_date': datetime.date(2022, 6, 10),\n",
       "    'end_date': datetime.date(2022, 6, 12),\n",
       "    'symbol': '16445'}],\n",
       "  'ESZ3-ESH4': [{'start_date': datetime.date(2022, 6, 10),\n",
       "    'end_date': datetime.date(2022, 6, 12),\n",
       "    'symbol': '33040'}],\n",
       "  'ESU2-ESH3': [{'start_date': datetime.date(2022, 6, 10),\n",
       "    'end_date': datetime.date(2022, 6, 12),\n",
       "    'symbol': '431108'}],\n",
       "  'ESH4-ESM4': [{'start_date': datetime.date(2022, 6, 10),\n",
       "    'end_date': datetime.date(2022, 6, 12),\n",
       "    'symbol': '17684'}]}}"
      ]
     },
     "execution_count": 0,
     "metadata": {},
     "output_type": "execute_result"
    }
   ],
   "source": [
    "data.symbology"
   ]
  },
  {
   "cell_type": "markdown",
   "id": "28198e3d-756d-4dc4-bb40-8dbcff6c3339",
   "metadata": {
    "pycharm": {
     "name": "#%% md\n"
    }
   },
   "source": [
    "### Symbology mappings\n",
    "\n",
    "A subset of the symbology metadata includes mappings — per date interval — between the requested symbols `stype_in` and the specified `stype_out`."
   ]
  },
  {
   "cell_type": "code",
   "execution_count": 0,
   "id": "cd12932a-1be2-475f-b2f4-d1ad581d2ac8",
   "metadata": {
    "pycharm": {
     "name": "#%%\n"
    },
    "tags": []
   },
   "outputs": [
    {
     "data": {
      "text/plain": [
       "{'ESZ3-ESH4': [{'start_date': datetime.date(2022, 6, 10),\n",
       "   'end_date': datetime.date(2022, 6, 12),\n",
       "   'symbol': '33040'}],\n",
       " 'ESU2-ESZ2': [{'start_date': datetime.date(2022, 6, 10),\n",
       "   'end_date': datetime.date(2022, 6, 12),\n",
       "   'symbol': '431796'}],\n",
       " 'ESZ5': [{'start_date': datetime.date(2022, 6, 10),\n",
       "   'end_date': datetime.date(2022, 6, 12),\n",
       "   'symbol': '294973'}],\n",
       " 'ESU2-ESH3': [{'start_date': datetime.date(2022, 6, 10),\n",
       "   'end_date': datetime.date(2022, 6, 12),\n",
       "   'symbol': '431108'}],\n",
       " 'ESM3': [{'start_date': datetime.date(2022, 6, 10),\n",
       "   'end_date': datetime.date(2022, 6, 12),\n",
       "   'symbol': '95414'}],\n",
       " 'ESZ2-ESU3': [{'start_date': datetime.date(2022, 6, 10),\n",
       "   'end_date': datetime.date(2022, 6, 12),\n",
       "   'symbol': '36396'}],\n",
       " 'ESU3-ESZ3': [{'start_date': datetime.date(2022, 6, 10),\n",
       "   'end_date': datetime.date(2022, 6, 12),\n",
       "   'symbol': '35947'}],\n",
       " 'ESM4-ESU4': [{'start_date': datetime.date(2022, 6, 10),\n",
       "   'end_date': datetime.date(2022, 6, 12),\n",
       "   'symbol': '4155'}],\n",
       " 'ESM2-ESM3': [{'start_date': datetime.date(2022, 6, 10),\n",
       "   'end_date': datetime.date(2022, 6, 12),\n",
       "   'symbol': '25719'}],\n",
       " 'ESM2-ESZ2': [{'start_date': datetime.date(2022, 6, 10),\n",
       "   'end_date': datetime.date(2022, 6, 12),\n",
       "   'symbol': '431109'}],\n",
       " 'ESH3': [{'start_date': datetime.date(2022, 6, 10),\n",
       "   'end_date': datetime.date(2022, 6, 12),\n",
       "   'symbol': '206299'}],\n",
       " 'ESH3-ESU3': [{'start_date': datetime.date(2022, 6, 10),\n",
       "   'end_date': datetime.date(2022, 6, 12),\n",
       "   'symbol': '20604'}],\n",
       " 'ESU4': [{'start_date': datetime.date(2022, 6, 10),\n",
       "   'end_date': datetime.date(2022, 6, 12),\n",
       "   'symbol': '118'}],\n",
       " 'ESM4': [{'start_date': datetime.date(2022, 6, 10),\n",
       "   'end_date': datetime.date(2022, 6, 12),\n",
       "   'symbol': '5602'}],\n",
       " 'ESM2-ESU2': [{'start_date': datetime.date(2022, 6, 10),\n",
       "   'end_date': datetime.date(2022, 6, 12),\n",
       "   'symbol': '96293'}],\n",
       " 'ESH4-ESM4': [{'start_date': datetime.date(2022, 6, 10),\n",
       "   'end_date': datetime.date(2022, 6, 12),\n",
       "   'symbol': '17684'}],\n",
       " 'ESZ4': [{'start_date': datetime.date(2022, 6, 10),\n",
       "   'end_date': datetime.date(2022, 6, 12),\n",
       "   'symbol': '183748'}],\n",
       " 'ESM2': [{'start_date': datetime.date(2022, 6, 10),\n",
       "   'end_date': datetime.date(2022, 6, 12),\n",
       "   'symbol': '3403'}],\n",
       " 'ESZ2-ESZ3': [{'start_date': datetime.date(2022, 6, 10),\n",
       "   'end_date': datetime.date(2022, 6, 12),\n",
       "   'symbol': '4931'}],\n",
       " 'ESM3-ESH4': [{'start_date': datetime.date(2022, 6, 10),\n",
       "   'end_date': datetime.date(2022, 6, 12),\n",
       "   'symbol': '2018'}],\n",
       " 'ESU2': [{'start_date': datetime.date(2022, 6, 10),\n",
       "   'end_date': datetime.date(2022, 6, 12),\n",
       "   'symbol': '97042'}],\n",
       " 'ESH4': [{'start_date': datetime.date(2022, 6, 10),\n",
       "   'end_date': datetime.date(2022, 6, 12),\n",
       "   'symbol': '17077'}],\n",
       " 'ESH3-ESZ3': [{'start_date': datetime.date(2022, 6, 10),\n",
       "   'end_date': datetime.date(2022, 6, 12),\n",
       "   'symbol': '16567'}],\n",
       " 'ESH3-ESM3': [{'start_date': datetime.date(2022, 6, 10),\n",
       "   'end_date': datetime.date(2022, 6, 12),\n",
       "   'symbol': '431569'}],\n",
       " 'ESZ2': [{'start_date': datetime.date(2022, 6, 10),\n",
       "   'end_date': datetime.date(2022, 6, 12),\n",
       "   'symbol': '206323'}],\n",
       " 'ESM3-ESU3': [{'start_date': datetime.date(2022, 6, 10),\n",
       "   'end_date': datetime.date(2022, 6, 12),\n",
       "   'symbol': '28177'}],\n",
       " 'ESZ2-ESM3': [{'start_date': datetime.date(2022, 6, 10),\n",
       "   'end_date': datetime.date(2022, 6, 12),\n",
       "   'symbol': '19355'}],\n",
       " 'ESM2-ESH3': [{'start_date': datetime.date(2022, 6, 10),\n",
       "   'end_date': datetime.date(2022, 6, 12),\n",
       "   'symbol': '6817'}],\n",
       " 'ESZ6': [{'start_date': datetime.date(2022, 6, 10),\n",
       "   'end_date': datetime.date(2022, 6, 12),\n",
       "   'symbol': '10252'}],\n",
       " 'ESZ2-ESH3': [{'start_date': datetime.date(2022, 6, 10),\n",
       "   'end_date': datetime.date(2022, 6, 12),\n",
       "   'symbol': '344396'}],\n",
       " 'ESU2-ESU3': [{'start_date': datetime.date(2022, 6, 10),\n",
       "   'end_date': datetime.date(2022, 6, 12),\n",
       "   'symbol': '16445'}],\n",
       " 'ESU3-ESH4': [{'start_date': datetime.date(2022, 6, 10),\n",
       "   'end_date': datetime.date(2022, 6, 12),\n",
       "   'symbol': '18909'}],\n",
       " 'ESM3-ESZ3': [{'start_date': datetime.date(2022, 6, 10),\n",
       "   'end_date': datetime.date(2022, 6, 12),\n",
       "   'symbol': '37976'}],\n",
       " 'ESZ3': [{'start_date': datetime.date(2022, 6, 10),\n",
       "   'end_date': datetime.date(2022, 6, 12),\n",
       "   'symbol': '314863'}],\n",
       " 'ESU2-ESM3': [{'start_date': datetime.date(2022, 6, 10),\n",
       "   'end_date': datetime.date(2022, 6, 12),\n",
       "   'symbol': '26998'}],\n",
       " 'ESZ3-ESM4': [{'start_date': datetime.date(2022, 6, 10),\n",
       "   'end_date': datetime.date(2022, 6, 12),\n",
       "   'symbol': '2826'}],\n",
       " 'ESU3': [{'start_date': datetime.date(2022, 6, 10),\n",
       "   'end_date': datetime.date(2022, 6, 12),\n",
       "   'symbol': '3445'}]}"
      ]
     },
     "execution_count": 0,
     "metadata": {},
     "output_type": "execute_result"
    }
   ],
   "source": [
    "data.mappings"
   ]
  },
  {
   "cell_type": "markdown",
   "id": "5c105245-93b1-4c0e-98d8-9978d0afa5bf",
   "metadata": {
    "pycharm": {
     "name": "#%% md\n"
    }
   },
   "source": [
    "### Instrument definitions\n",
    "\n",
    "The metadata also contains 'mini-definitions,' which are a subset of the full `definition` schema. The full instrument definitions — including all data from the exchange — can be obtained in a separate request."
   ]
  },
  {
   "cell_type": "markdown",
   "id": "b41bb8b1-55b1-4a84-9575-2cf760605b97",
   "metadata": {
    "pycharm": {
     "name": "#%% md\n"
    }
   },
   "source": [
    "### Pandas DataFrame"
   ]
  },
  {
   "cell_type": "markdown",
   "id": "b9de74ac-2f1b-443d-9ec3-80ade416107a",
   "metadata": {
    "pycharm": {
     "name": "#%% md\n"
    }
   },
   "source": [
    "To construct a pandas `DataFrame` from the data, you can call the `.to_df()` method."
   ]
  },
  {
   "cell_type": "code",
   "execution_count": 0,
   "id": "023585c5-2911-4532-b6c5-329b003a6f4b",
   "metadata": {
    "pycharm": {
     "name": "#%%\n"
    },
    "tags": []
   },
   "outputs": [
    {
     "data": {
      "text/html": [
       "<div>\n",
       "<style scoped>\n",
       "    .dataframe tbody tr th:only-of-type {\n",
       "        vertical-align: middle;\n",
       "    }\n",
       "\n",
       "    .dataframe tbody tr th {\n",
       "        vertical-align: top;\n",
       "    }\n",
       "\n",
       "    .dataframe thead th {\n",
       "        text-align: right;\n",
       "    }\n",
       "</style>\n",
       "<table border=\"1\" class=\"dataframe\">\n",
       "  <thead>\n",
       "    <tr style=\"text-align: right;\">\n",
       "      <th></th>\n",
       "      <th>ts_event</th>\n",
       "      <th>ts_in_delta</th>\n",
       "      <th>publisher_id</th>\n",
       "      <th>channel_id</th>\n",
       "      <th>instrument_id</th>\n",
       "      <th>order_id</th>\n",
       "      <th>action</th>\n",
       "      <th>side</th>\n",
       "      <th>flags</th>\n",
       "      <th>price</th>\n",
       "      <th>size</th>\n",
       "      <th>sequence</th>\n",
       "      <th>symbol</th>\n",
       "    </tr>\n",
       "    <tr>\n",
       "      <th>ts_recv</th>\n",
       "      <th></th>\n",
       "      <th></th>\n",
       "      <th></th>\n",
       "      <th></th>\n",
       "      <th></th>\n",
       "      <th></th>\n",
       "      <th></th>\n",
       "      <th></th>\n",
       "      <th></th>\n",
       "      <th></th>\n",
       "      <th></th>\n",
       "      <th></th>\n",
       "      <th></th>\n",
       "    </tr>\n",
       "  </thead>\n",
       "  <tbody>\n",
       "    <tr>\n",
       "      <th>2022-06-10 14:30:00.000637392+00:00</th>\n",
       "      <td>2022-06-10 14:30:00.000025147+00:00</td>\n",
       "      <td>16157</td>\n",
       "      <td>1</td>\n",
       "      <td>0</td>\n",
       "      <td>97042</td>\n",
       "      <td>6410153029859</td>\n",
       "      <td>A</td>\n",
       "      <td>B</td>\n",
       "      <td>128</td>\n",
       "      <td>3903.50</td>\n",
       "      <td>10</td>\n",
       "      <td>65509273</td>\n",
       "      <td>ESU2</td>\n",
       "    </tr>\n",
       "    <tr>\n",
       "      <th>2022-06-10 14:30:00.000758204+00:00</th>\n",
       "      <td>2022-06-10 14:30:00.000644983+00:00</td>\n",
       "      <td>18570</td>\n",
       "      <td>1</td>\n",
       "      <td>0</td>\n",
       "      <td>97042</td>\n",
       "      <td>6410153029860</td>\n",
       "      <td>A</td>\n",
       "      <td>B</td>\n",
       "      <td>128</td>\n",
       "      <td>3903.50</td>\n",
       "      <td>1</td>\n",
       "      <td>65509274</td>\n",
       "      <td>ESU2</td>\n",
       "    </tr>\n",
       "    <tr>\n",
       "      <th>2022-06-10 14:30:00.003570400+00:00</th>\n",
       "      <td>2022-06-10 14:30:00.003445373+00:00</td>\n",
       "      <td>21408</td>\n",
       "      <td>1</td>\n",
       "      <td>0</td>\n",
       "      <td>3403</td>\n",
       "      <td>6410153029861</td>\n",
       "      <td>A</td>\n",
       "      <td>A</td>\n",
       "      <td>128</td>\n",
       "      <td>3904.75</td>\n",
       "      <td>1</td>\n",
       "      <td>65509275</td>\n",
       "      <td>ESM2</td>\n",
       "    </tr>\n",
       "    <tr>\n",
       "      <th>2022-06-10 14:30:00.003759884+00:00</th>\n",
       "      <td>2022-06-10 14:30:00.003627981+00:00</td>\n",
       "      <td>20756</td>\n",
       "      <td>1</td>\n",
       "      <td>0</td>\n",
       "      <td>3403</td>\n",
       "      <td>6410153029862</td>\n",
       "      <td>A</td>\n",
       "      <td>B</td>\n",
       "      <td>128</td>\n",
       "      <td>3895.00</td>\n",
       "      <td>1</td>\n",
       "      <td>65509276</td>\n",
       "      <td>ESM2</td>\n",
       "    </tr>\n",
       "    <tr>\n",
       "      <th>2022-06-10 14:30:00.003766076+00:00</th>\n",
       "      <td>2022-06-10 14:30:00.003630375+00:00</td>\n",
       "      <td>16130</td>\n",
       "      <td>1</td>\n",
       "      <td>0</td>\n",
       "      <td>3403</td>\n",
       "      <td>6410153029863</td>\n",
       "      <td>A</td>\n",
       "      <td>A</td>\n",
       "      <td>128</td>\n",
       "      <td>3904.50</td>\n",
       "      <td>1</td>\n",
       "      <td>65509277</td>\n",
       "      <td>ESM2</td>\n",
       "    </tr>\n",
       "    <tr>\n",
       "      <th>2022-06-10 14:30:00.003773116+00:00</th>\n",
       "      <td>2022-06-10 14:30:00.003651355+00:00</td>\n",
       "      <td>17362</td>\n",
       "      <td>1</td>\n",
       "      <td>0</td>\n",
       "      <td>3403</td>\n",
       "      <td>6410153029864</td>\n",
       "      <td>A</td>\n",
       "      <td>A</td>\n",
       "      <td>128</td>\n",
       "      <td>3904.75</td>\n",
       "      <td>1</td>\n",
       "      <td>65509278</td>\n",
       "      <td>ESM2</td>\n",
       "    </tr>\n",
       "    <tr>\n",
       "      <th>2022-06-10 14:30:00.003786908+00:00</th>\n",
       "      <td>2022-06-10 14:30:00.003657773+00:00</td>\n",
       "      <td>25327</td>\n",
       "      <td>1</td>\n",
       "      <td>0</td>\n",
       "      <td>3403</td>\n",
       "      <td>6410153029865</td>\n",
       "      <td>A</td>\n",
       "      <td>B</td>\n",
       "      <td>128</td>\n",
       "      <td>3894.75</td>\n",
       "      <td>1</td>\n",
       "      <td>65509279</td>\n",
       "      <td>ESM2</td>\n",
       "    </tr>\n",
       "    <tr>\n",
       "      <th>2022-06-10 14:30:00.003787568+00:00</th>\n",
       "      <td>2022-06-10 14:30:00.003675667+00:00</td>\n",
       "      <td>15046</td>\n",
       "      <td>1</td>\n",
       "      <td>0</td>\n",
       "      <td>3403</td>\n",
       "      <td>6410153029866</td>\n",
       "      <td>A</td>\n",
       "      <td>B</td>\n",
       "      <td>128</td>\n",
       "      <td>3894.50</td>\n",
       "      <td>1</td>\n",
       "      <td>65509280</td>\n",
       "      <td>ESM2</td>\n",
       "    </tr>\n",
       "    <tr>\n",
       "      <th>2022-06-10 14:30:00.003802408+00:00</th>\n",
       "      <td>2022-06-10 14:30:00.003690029+00:00</td>\n",
       "      <td>20556</td>\n",
       "      <td>1</td>\n",
       "      <td>0</td>\n",
       "      <td>3403</td>\n",
       "      <td>6410153029867</td>\n",
       "      <td>A</td>\n",
       "      <td>A</td>\n",
       "      <td>128</td>\n",
       "      <td>3905.00</td>\n",
       "      <td>1</td>\n",
       "      <td>65509281</td>\n",
       "      <td>ESM2</td>\n",
       "    </tr>\n",
       "    <tr>\n",
       "      <th>2022-06-10 14:30:00.003812108+00:00</th>\n",
       "      <td>2022-06-10 14:30:00.003704327+00:00</td>\n",
       "      <td>19123</td>\n",
       "      <td>1</td>\n",
       "      <td>0</td>\n",
       "      <td>3403</td>\n",
       "      <td>6410153029868</td>\n",
       "      <td>A</td>\n",
       "      <td>A</td>\n",
       "      <td>128</td>\n",
       "      <td>3905.25</td>\n",
       "      <td>1</td>\n",
       "      <td>65509282</td>\n",
       "      <td>ESM2</td>\n",
       "    </tr>\n",
       "    <tr>\n",
       "      <th>2022-06-10 14:30:00.003822544+00:00</th>\n",
       "      <td>2022-06-10 14:30:00.003705023+00:00</td>\n",
       "      <td>18341</td>\n",
       "      <td>1</td>\n",
       "      <td>0</td>\n",
       "      <td>3403</td>\n",
       "      <td>6410153029869</td>\n",
       "      <td>A</td>\n",
       "      <td>B</td>\n",
       "      <td>128</td>\n",
       "      <td>3894.25</td>\n",
       "      <td>1</td>\n",
       "      <td>65509283</td>\n",
       "      <td>ESM2</td>\n",
       "    </tr>\n",
       "    <tr>\n",
       "      <th>2022-06-10 14:30:00.003835852+00:00</th>\n",
       "      <td>2022-06-10 14:30:00.003728203+00:00</td>\n",
       "      <td>17751</td>\n",
       "      <td>1</td>\n",
       "      <td>0</td>\n",
       "      <td>3403</td>\n",
       "      <td>6410153029870</td>\n",
       "      <td>A</td>\n",
       "      <td>A</td>\n",
       "      <td>128</td>\n",
       "      <td>3905.50</td>\n",
       "      <td>1</td>\n",
       "      <td>65509284</td>\n",
       "      <td>ESM2</td>\n",
       "    </tr>\n",
       "    <tr>\n",
       "      <th>2022-06-10 14:30:00.003848452+00:00</th>\n",
       "      <td>2022-06-10 14:30:00.003733117+00:00</td>\n",
       "      <td>18962</td>\n",
       "      <td>1</td>\n",
       "      <td>0</td>\n",
       "      <td>3403</td>\n",
       "      <td>6410153029871</td>\n",
       "      <td>A</td>\n",
       "      <td>B</td>\n",
       "      <td>128</td>\n",
       "      <td>3894.00</td>\n",
       "      <td>1</td>\n",
       "      <td>65509285</td>\n",
       "      <td>ESM2</td>\n",
       "    </tr>\n",
       "    <tr>\n",
       "      <th>2022-06-10 14:30:00.003864076+00:00</th>\n",
       "      <td>2022-06-10 14:30:00.003753393+00:00</td>\n",
       "      <td>19764</td>\n",
       "      <td>1</td>\n",
       "      <td>0</td>\n",
       "      <td>3403</td>\n",
       "      <td>6410153029872</td>\n",
       "      <td>A</td>\n",
       "      <td>B</td>\n",
       "      <td>128</td>\n",
       "      <td>3893.75</td>\n",
       "      <td>1</td>\n",
       "      <td>65509286</td>\n",
       "      <td>ESM2</td>\n",
       "    </tr>\n",
       "    <tr>\n",
       "      <th>2022-06-10 14:30:00.003874684+00:00</th>\n",
       "      <td>2022-06-10 14:30:00.003760453+00:00</td>\n",
       "      <td>15824</td>\n",
       "      <td>1</td>\n",
       "      <td>0</td>\n",
       "      <td>3403</td>\n",
       "      <td>6410153029873</td>\n",
       "      <td>A</td>\n",
       "      <td>A</td>\n",
       "      <td>128</td>\n",
       "      <td>3905.75</td>\n",
       "      <td>1</td>\n",
       "      <td>65509287</td>\n",
       "      <td>ESM2</td>\n",
       "    </tr>\n",
       "    <tr>\n",
       "      <th>2022-06-10 14:30:00.003898096+00:00</th>\n",
       "      <td>2022-06-10 14:30:00.003789553+00:00</td>\n",
       "      <td>16624</td>\n",
       "      <td>1</td>\n",
       "      <td>0</td>\n",
       "      <td>3403</td>\n",
       "      <td>6410153029874</td>\n",
       "      <td>A</td>\n",
       "      <td>A</td>\n",
       "      <td>128</td>\n",
       "      <td>3906.00</td>\n",
       "      <td>1</td>\n",
       "      <td>65509288</td>\n",
       "      <td>ESM2</td>\n",
       "    </tr>\n",
       "    <tr>\n",
       "      <th>2022-06-10 14:30:00.003925516+00:00</th>\n",
       "      <td>2022-06-10 14:30:00.003808893+00:00</td>\n",
       "      <td>15815</td>\n",
       "      <td>1</td>\n",
       "      <td>0</td>\n",
       "      <td>3403</td>\n",
       "      <td>6410153020825</td>\n",
       "      <td>C</td>\n",
       "      <td>A</td>\n",
       "      <td>128</td>\n",
       "      <td>3916.00</td>\n",
       "      <td>1</td>\n",
       "      <td>65509289</td>\n",
       "      <td>ESM2</td>\n",
       "    </tr>\n",
       "    <tr>\n",
       "      <th>2022-06-10 14:30:00.003933688+00:00</th>\n",
       "      <td>2022-06-10 14:30:00.003809399+00:00</td>\n",
       "      <td>16531</td>\n",
       "      <td>1</td>\n",
       "      <td>0</td>\n",
       "      <td>3403</td>\n",
       "      <td>6410153012258</td>\n",
       "      <td>C</td>\n",
       "      <td>A</td>\n",
       "      <td>128</td>\n",
       "      <td>3915.00</td>\n",
       "      <td>1</td>\n",
       "      <td>65509290</td>\n",
       "      <td>ESM2</td>\n",
       "    </tr>\n",
       "    <tr>\n",
       "      <th>2022-06-10 14:30:00.003942440+00:00</th>\n",
       "      <td>2022-06-10 14:30:00.003810909+00:00</td>\n",
       "      <td>19100</td>\n",
       "      <td>1</td>\n",
       "      <td>0</td>\n",
       "      <td>3403</td>\n",
       "      <td>6410153020823</td>\n",
       "      <td>C</td>\n",
       "      <td>A</td>\n",
       "      <td>128</td>\n",
       "      <td>3915.50</td>\n",
       "      <td>1</td>\n",
       "      <td>65509291</td>\n",
       "      <td>ESM2</td>\n",
       "    </tr>\n",
       "    <tr>\n",
       "      <th>2022-06-10 14:30:00.003957015+00:00</th>\n",
       "      <td>2022-06-10 14:30:00.003815319+00:00</td>\n",
       "      <td>18502</td>\n",
       "      <td>1</td>\n",
       "      <td>0</td>\n",
       "      <td>3403</td>\n",
       "      <td>6410153029875</td>\n",
       "      <td>A</td>\n",
       "      <td>A</td>\n",
       "      <td>128</td>\n",
       "      <td>3905.00</td>\n",
       "      <td>1</td>\n",
       "      <td>65509292</td>\n",
       "      <td>ESM2</td>\n",
       "    </tr>\n",
       "  </tbody>\n",
       "</table>\n",
       "</div>"
      ],
      "text/plain": [
       "                                                               ts_event  \\\n",
       "ts_recv                                                                   \n",
       "2022-06-10 14:30:00.000637392+00:00 2022-06-10 14:30:00.000025147+00:00   \n",
       "2022-06-10 14:30:00.000758204+00:00 2022-06-10 14:30:00.000644983+00:00   \n",
       "2022-06-10 14:30:00.003570400+00:00 2022-06-10 14:30:00.003445373+00:00   \n",
       "2022-06-10 14:30:00.003759884+00:00 2022-06-10 14:30:00.003627981+00:00   \n",
       "2022-06-10 14:30:00.003766076+00:00 2022-06-10 14:30:00.003630375+00:00   \n",
       "2022-06-10 14:30:00.003773116+00:00 2022-06-10 14:30:00.003651355+00:00   \n",
       "2022-06-10 14:30:00.003786908+00:00 2022-06-10 14:30:00.003657773+00:00   \n",
       "2022-06-10 14:30:00.003787568+00:00 2022-06-10 14:30:00.003675667+00:00   \n",
       "2022-06-10 14:30:00.003802408+00:00 2022-06-10 14:30:00.003690029+00:00   \n",
       "2022-06-10 14:30:00.003812108+00:00 2022-06-10 14:30:00.003704327+00:00   \n",
       "2022-06-10 14:30:00.003822544+00:00 2022-06-10 14:30:00.003705023+00:00   \n",
       "2022-06-10 14:30:00.003835852+00:00 2022-06-10 14:30:00.003728203+00:00   \n",
       "2022-06-10 14:30:00.003848452+00:00 2022-06-10 14:30:00.003733117+00:00   \n",
       "2022-06-10 14:30:00.003864076+00:00 2022-06-10 14:30:00.003753393+00:00   \n",
       "2022-06-10 14:30:00.003874684+00:00 2022-06-10 14:30:00.003760453+00:00   \n",
       "2022-06-10 14:30:00.003898096+00:00 2022-06-10 14:30:00.003789553+00:00   \n",
       "2022-06-10 14:30:00.003925516+00:00 2022-06-10 14:30:00.003808893+00:00   \n",
       "2022-06-10 14:30:00.003933688+00:00 2022-06-10 14:30:00.003809399+00:00   \n",
       "2022-06-10 14:30:00.003942440+00:00 2022-06-10 14:30:00.003810909+00:00   \n",
       "2022-06-10 14:30:00.003957015+00:00 2022-06-10 14:30:00.003815319+00:00   \n",
       "\n",
       "                                     ts_in_delta  publisher_id  channel_id  \\\n",
       "ts_recv                                                                      \n",
       "2022-06-10 14:30:00.000637392+00:00        16157             1           0   \n",
       "2022-06-10 14:30:00.000758204+00:00        18570             1           0   \n",
       "2022-06-10 14:30:00.003570400+00:00        21408             1           0   \n",
       "2022-06-10 14:30:00.003759884+00:00        20756             1           0   \n",
       "2022-06-10 14:30:00.003766076+00:00        16130             1           0   \n",
       "2022-06-10 14:30:00.003773116+00:00        17362             1           0   \n",
       "2022-06-10 14:30:00.003786908+00:00        25327             1           0   \n",
       "2022-06-10 14:30:00.003787568+00:00        15046             1           0   \n",
       "2022-06-10 14:30:00.003802408+00:00        20556             1           0   \n",
       "2022-06-10 14:30:00.003812108+00:00        19123             1           0   \n",
       "2022-06-10 14:30:00.003822544+00:00        18341             1           0   \n",
       "2022-06-10 14:30:00.003835852+00:00        17751             1           0   \n",
       "2022-06-10 14:30:00.003848452+00:00        18962             1           0   \n",
       "2022-06-10 14:30:00.003864076+00:00        19764             1           0   \n",
       "2022-06-10 14:30:00.003874684+00:00        15824             1           0   \n",
       "2022-06-10 14:30:00.003898096+00:00        16624             1           0   \n",
       "2022-06-10 14:30:00.003925516+00:00        15815             1           0   \n",
       "2022-06-10 14:30:00.003933688+00:00        16531             1           0   \n",
       "2022-06-10 14:30:00.003942440+00:00        19100             1           0   \n",
       "2022-06-10 14:30:00.003957015+00:00        18502             1           0   \n",
       "\n",
       "                                     instrument_id       order_id action side  \\\n",
       "ts_recv                                                                         \n",
       "2022-06-10 14:30:00.000637392+00:00          97042  6410153029859      A    B   \n",
       "2022-06-10 14:30:00.000758204+00:00          97042  6410153029860      A    B   \n",
       "2022-06-10 14:30:00.003570400+00:00           3403  6410153029861      A    A   \n",
       "2022-06-10 14:30:00.003759884+00:00           3403  6410153029862      A    B   \n",
       "2022-06-10 14:30:00.003766076+00:00           3403  6410153029863      A    A   \n",
       "2022-06-10 14:30:00.003773116+00:00           3403  6410153029864      A    A   \n",
       "2022-06-10 14:30:00.003786908+00:00           3403  6410153029865      A    B   \n",
       "2022-06-10 14:30:00.003787568+00:00           3403  6410153029866      A    B   \n",
       "2022-06-10 14:30:00.003802408+00:00           3403  6410153029867      A    A   \n",
       "2022-06-10 14:30:00.003812108+00:00           3403  6410153029868      A    A   \n",
       "2022-06-10 14:30:00.003822544+00:00           3403  6410153029869      A    B   \n",
       "2022-06-10 14:30:00.003835852+00:00           3403  6410153029870      A    A   \n",
       "2022-06-10 14:30:00.003848452+00:00           3403  6410153029871      A    B   \n",
       "2022-06-10 14:30:00.003864076+00:00           3403  6410153029872      A    B   \n",
       "2022-06-10 14:30:00.003874684+00:00           3403  6410153029873      A    A   \n",
       "2022-06-10 14:30:00.003898096+00:00           3403  6410153029874      A    A   \n",
       "2022-06-10 14:30:00.003925516+00:00           3403  6410153020825      C    A   \n",
       "2022-06-10 14:30:00.003933688+00:00           3403  6410153012258      C    A   \n",
       "2022-06-10 14:30:00.003942440+00:00           3403  6410153020823      C    A   \n",
       "2022-06-10 14:30:00.003957015+00:00           3403  6410153029875      A    A   \n",
       "\n",
       "                                     flags    price  size  sequence symbol  \n",
       "ts_recv                                                                     \n",
       "2022-06-10 14:30:00.000637392+00:00    128  3903.50    10  65509273   ESU2  \n",
       "2022-06-10 14:30:00.000758204+00:00    128  3903.50     1  65509274   ESU2  \n",
       "2022-06-10 14:30:00.003570400+00:00    128  3904.75     1  65509275   ESM2  \n",
       "2022-06-10 14:30:00.003759884+00:00    128  3895.00     1  65509276   ESM2  \n",
       "2022-06-10 14:30:00.003766076+00:00    128  3904.50     1  65509277   ESM2  \n",
       "2022-06-10 14:30:00.003773116+00:00    128  3904.75     1  65509278   ESM2  \n",
       "2022-06-10 14:30:00.003786908+00:00    128  3894.75     1  65509279   ESM2  \n",
       "2022-06-10 14:30:00.003787568+00:00    128  3894.50     1  65509280   ESM2  \n",
       "2022-06-10 14:30:00.003802408+00:00    128  3905.00     1  65509281   ESM2  \n",
       "2022-06-10 14:30:00.003812108+00:00    128  3905.25     1  65509282   ESM2  \n",
       "2022-06-10 14:30:00.003822544+00:00    128  3894.25     1  65509283   ESM2  \n",
       "2022-06-10 14:30:00.003835852+00:00    128  3905.50     1  65509284   ESM2  \n",
       "2022-06-10 14:30:00.003848452+00:00    128  3894.00     1  65509285   ESM2  \n",
       "2022-06-10 14:30:00.003864076+00:00    128  3893.75     1  65509286   ESM2  \n",
       "2022-06-10 14:30:00.003874684+00:00    128  3905.75     1  65509287   ESM2  \n",
       "2022-06-10 14:30:00.003898096+00:00    128  3906.00     1  65509288   ESM2  \n",
       "2022-06-10 14:30:00.003925516+00:00    128  3916.00     1  65509289   ESM2  \n",
       "2022-06-10 14:30:00.003933688+00:00    128  3915.00     1  65509290   ESM2  \n",
       "2022-06-10 14:30:00.003942440+00:00    128  3915.50     1  65509291   ESM2  \n",
       "2022-06-10 14:30:00.003957015+00:00    128  3905.00     1  65509292   ESM2  "
      ]
     },
     "execution_count": 0,
     "metadata": {},
     "output_type": "execute_result"
    }
   ],
   "source": [
    "import pandas as pd\n",
    "\n",
    "pd.set_option('display.max_columns', None)\n",
    "\n",
    "df = data.to_df(pretty_px=True, pretty_ts=True)\n",
    "df.head(20)"
   ]
  },
  {
   "cell_type": "markdown",
   "id": "392f402d-b325-4d61-9053-76e38dbb021e",
   "metadata": {
    "pycharm": {
     "name": "#%% md\n"
    }
   },
   "source": [
    "### Numpy arrays\n",
    "\n",
    "To cast the data to an array of individual records represented as `np.ndarray`(s), you can call the `to_ndarray()` method.\n",
    "\n"
   ]
  },
  {
   "cell_type": "code",
   "execution_count": 0,
   "id": "23dbe271-0379-46f0-ae47-1f33a7b708e5",
   "metadata": {
    "pycharm": {
     "name": "#%%\n"
    },
    "tags": []
   },
   "outputs": [
    {
     "data": {
      "text/plain": [
       "array([(14, 160, 1, 97042, 1654871400000025147, 6410153029859, 3903500000000, 10, -128, 0, b'A', b'B', 1654871400000637392, 16157, 65509273),\n",
       "       (14, 160, 1, 97042, 1654871400000644983, 6410153029860, 3903500000000,  1, -128, 0, b'A', b'B', 1654871400000758204, 18570, 65509274),\n",
       "       (14, 160, 1,  3403, 1654871400003445373, 6410153029861, 3904750000000,  1, -128, 0, b'A', b'A', 1654871400003570400, 21408, 65509275),\n",
       "       (14, 160, 1,  3403, 1654871400003627981, 6410153029862, 3895000000000,  1, -128, 0, b'A', b'B', 1654871400003759884, 20756, 65509276),\n",
       "       (14, 160, 1,  3403, 1654871400003630375, 6410153029863, 3904500000000,  1, -128, 0, b'A', b'A', 1654871400003766076, 16130, 65509277),\n",
       "       (14, 160, 1,  3403, 1654871400003651355, 6410153029864, 3904750000000,  1, -128, 0, b'A', b'A', 1654871400003773116, 17362, 65509278),\n",
       "       (14, 160, 1,  3403, 1654871400003657773, 6410153029865, 3894750000000,  1, -128, 0, b'A', b'B', 1654871400003786908, 25327, 65509279),\n",
       "       (14, 160, 1,  3403, 1654871400003675667, 6410153029866, 3894500000000,  1, -128, 0, b'A', b'B', 1654871400003787568, 15046, 65509280),\n",
       "       (14, 160, 1,  3403, 1654871400003690029, 6410153029867, 3905000000000,  1, -128, 0, b'A', b'A', 1654871400003802408, 20556, 65509281),\n",
       "       (14, 160, 1,  3403, 1654871400003704327, 6410153029868, 3905250000000,  1, -128, 0, b'A', b'A', 1654871400003812108, 19123, 65509282)],\n",
       "      dtype=[('length', 'u1'), ('rtype', 'u1'), ('publisher_id', '<u2'), ('instrument_id', '<u4'), ('ts_event', '<u8'), ('order_id', '<u8'), ('price', '<i8'), ('size', '<u4'), ('flags', 'i1'), ('channel_id', 'u1'), ('action', 'S1'), ('side', 'S1'), ('ts_recv', '<u8'), ('ts_in_delta', '<i4'), ('sequence', '<u4')])"
      ]
     },
     "execution_count": 0,
     "metadata": {},
     "output_type": "execute_result"
    }
   ],
   "source": [
    "data.to_ndarray()[:10]"
   ]
  },
  {
   "cell_type": "markdown",
   "id": "6560afef-877a-4e31-8cd9-11465081c88e",
   "metadata": {
    "pycharm": {
     "name": "#%% md\n"
    }
   },
   "source": [
    "### Replay\n",
    "\n",
    "To replay the time series data stream record by record to a handlers callback, you can use the `.replay(callback)` method."
   ]
  },
  {
   "cell_type": "code",
   "execution_count": 0,
   "id": "9aff99e1-1e62-4b22-901f-373b4133a261",
   "metadata": {
    "pycharm": {
     "name": "#%%\n"
    },
    "tags": []
   },
   "outputs": [],
   "source": [
    "def my_handler(record):\n",
    "    # backtesting / trading strategies (event-driven)\n",
    "    print(record)"
   ]
  },
  {
   "cell_type": "code",
   "execution_count": 0,
   "id": "415ade36-1654-4bce-850b-0ae3bfc468b0",
   "metadata": {
    "pycharm": {
     "name": "#%%\n"
    }
   },
   "outputs": [],
   "source": [
    "#  data.replay(my_handler)"
   ]
  },
  {
   "cell_type": "markdown",
   "id": "f04d163a-5c9b-4d98-925a-13750e5a802c",
   "metadata": {
    "pycharm": {
     "name": "#%% md\n"
    }
   },
   "source": [
    "## Writing data to disk\n",
    "\n",
    "You can write the raw DBN data to disk using the `.to_file()` method.\n",
    "\n"
   ]
  },
  {
   "cell_type": "code",
   "execution_count": 0,
   "id": "20a07bde-c70f-41f6-bc93-b0e3907819b8",
   "metadata": {
    "pycharm": {
     "name": "#%%\n"
    },
    "tags": []
   },
   "outputs": [],
   "source": [
    "data.to_file(\"test.dbn\")"
   ]
  },
  {
   "cell_type": "markdown",
   "id": "842d9ef1-9518-4a73-a177-57bcbe448869",
   "metadata": {
    "pycharm": {
     "name": "#%% md\n"
    }
   },
   "source": [
    "You can also write to disk as CSV or JSON."
   ]
  },
  {
   "cell_type": "code",
   "execution_count": 0,
   "id": "92c62480-5fac-4342-b091-0f5654605e20",
   "metadata": {
    "pycharm": {
     "name": "#%%\n"
    },
    "tags": []
   },
   "outputs": [],
   "source": [
    "data.to_csv(\"my_data.csv\")"
   ]
  },
  {
   "cell_type": "code",
   "execution_count": 0,
   "id": "16ae4a8b-5c77-4f2f-8ac3-9b21e4bc5187",
   "metadata": {
    "pycharm": {
     "name": "#%%\n"
    },
    "tags": []
   },
   "outputs": [],
   "source": [
    "data.to_json(\"my_data.json\")"
   ]
  },
  {
   "cell_type": "markdown",
   "id": "97ee06db-a6be-4be7-84d1-3197d5261da7",
   "metadata": {
    "pycharm": {
     "name": "#%% md\n"
    }
   },
   "source": [
    "## Time series batch requests"
   ]
  },
  {
   "cell_type": "markdown",
   "id": "fadf448e",
   "metadata": {
    "pycharm": {
     "name": "#%% md\n"
    }
   },
   "source": [
    "The client library can also make batch download requests to the Databento API."
   ]
  },
  {
   "cell_type": "code",
   "execution_count": 0,
   "id": "e1002ece-da46-4aab-9434-556fab131f9a",
   "metadata": {
    "pycharm": {
     "name": "#%%\n"
    },
    "tags": []
   },
   "outputs": [
    {
     "data": {
      "text/plain": [
       "{'id': 'GLBX-20230509-A4P34AC73L',\n",
       " 'user_id': 'WJSPXEQK',\n",
       " 'bill_id': None,\n",
       " 'cost_usd': None,\n",
       " 'dataset': 'GLBX.MDP3',\n",
       " 'symbols': 'ESH1',\n",
       " 'stype_in': 'raw_symbol',\n",
       " 'stype_out': 'instrument_id',\n",
       " 'schema': 'trades',\n",
       " 'start': '2020-12-27 12:00:00+00:00',\n",
       " 'end': '2020-12-30 00:00:00+00:00',\n",
       " 'limit': 1000,\n",
       " 'encoding': 'dbn',\n",
       " 'compression': 'zstd',\n",
       " 'pretty_px': False,\n",
       " 'pretty_ts': False,\n",
       " 'split_duration': 'day',\n",
       " 'split_size': None,\n",
       " 'split_symbols': False,\n",
       " 'packaging': None,\n",
       " 'delivery': 'download',\n",
       " 'record_count': None,\n",
       " 'billed_size': None,\n",
       " 'actual_size': None,\n",
       " 'package_size': None,\n",
       " 'state': 'queued',\n",
       " 'ts_received': '2023-05-09 23:15:43.320951+00:00',\n",
       " 'ts_queued': None,\n",
       " 'ts_process_start': None,\n",
       " 'ts_process_done': None,\n",
       " 'ts_expiration': None}"
      ]
     },
     "execution_count": 0,
     "metadata": {},
     "output_type": "execute_result"
    }
   ],
   "source": [
    "new_job = client.batch.submit_job(\n",
    "    dataset=\"GLBX.MDP3\",\n",
    "    symbols=[\"ESH1\"],\n",
    "    schema=\"trades\",\n",
    "    start=\"2020-12-27T12:00\",\n",
    "    end=\"2020-12-29\",\n",
    "    encoding=\"dbn\",\n",
    "    delivery=\"download\",\n",
    "    limit=1000,  # <-- request limited to 1000 records\n",
    ")\n",
    "new_job_id = new_job[\"id\"]\n",
    "\n",
    "new_job"
   ]
  },
  {
   "cell_type": "markdown",
   "id": "ec29b7b2-612a-4bbe-bd70-460b08e3866e",
   "metadata": {
    "pycharm": {
     "name": "#%% md\n"
    }
   },
   "source": [
    "## Querying batch job state\n",
    "\n",
    "It's possible to query for a list of your batch jobs, with optional filter parameters for `state` (the state of the batch job) and `since` (when the job was received). \n",
    "\n",
    "This could help to programatically build and manage larger data pipelines. Once we see the batch job has completed processing (with a state of `done`), then we can download the files.\n",
    "\n",
    "Note the value of the batch job's `id` which we'll need to provide for download. This is saved to `new_job_id`."
   ]
  },
  {
   "cell_type": "code",
   "execution_count": 0,
   "id": "fc75af05-74d1-4868-9d9e-f3f4da107d99",
   "metadata": {
    "pycharm": {
     "name": "#%%\n"
    },
    "scrolled": true,
    "tags": []
   },
   "outputs": [
    {
     "data": {
      "text/plain": [
       "[{'id': 'GLBX-20230509-RP3BTK56FD',\n",
       "  'user_id': 'WJSPXEQK',\n",
       "  'bill_id': '41052ce887b84064ab9d1d06724cd345',\n",
       "  'cost_usd': 0.00110975503922,\n",
       "  'dataset': 'GLBX.MDP3',\n",
       "  'symbols': 'ESH1',\n",
       "  'stype_in': 'raw_symbol',\n",
       "  'stype_out': 'instrument_id',\n",
       "  'schema': 'trades',\n",
       "  'start': '2020-12-27 12:00:00+00:00',\n",
       "  'end': '2020-12-30 00:00:00+00:00',\n",
       "  'limit': 1000,\n",
       "  'encoding': 'dbn',\n",
       "  'compression': 'zstd',\n",
       "  'pretty_px': False,\n",
       "  'pretty_ts': False,\n",
       "  'split_duration': 'day',\n",
       "  'split_size': None,\n",
       "  'split_symbols': False,\n",
       "  'packaging': None,\n",
       "  'delivery': 'download',\n",
       "  'record_count': 1001,\n",
       "  'billed_size': 48048,\n",
       "  'actual_size': 15934,\n",
       "  'package_size': 18544,\n",
       "  'state': 'done',\n",
       "  'ts_received': '2023-05-09 23:12:29.874852+00:00',\n",
       "  'ts_queued': '2023-05-09 23:12:30.301953+00:00',\n",
       "  'ts_process_start': '2023-05-09 23:12:34.608017+00:00',\n",
       "  'ts_process_done': '2023-05-09 23:12:34.909506+00:00',\n",
       "  'ts_expiration': '2023-06-08 23:12:34.909506+00:00',\n",
       "  'progress': 100},\n",
       " {'id': 'GLBX-20230509-A4P34AC73L',\n",
       "  'user_id': 'WJSPXEQK',\n",
       "  'bill_id': None,\n",
       "  'cost_usd': None,\n",
       "  'dataset': 'GLBX.MDP3',\n",
       "  'symbols': 'ESH1',\n",
       "  'stype_in': 'raw_symbol',\n",
       "  'stype_out': 'instrument_id',\n",
       "  'schema': 'trades',\n",
       "  'start': '2020-12-27 12:00:00+00:00',\n",
       "  'end': '2020-12-30 00:00:00+00:00',\n",
       "  'limit': 1000,\n",
       "  'encoding': 'dbn',\n",
       "  'compression': 'zstd',\n",
       "  'pretty_px': False,\n",
       "  'pretty_ts': False,\n",
       "  'split_duration': 'day',\n",
       "  'split_size': None,\n",
       "  'split_symbols': False,\n",
       "  'packaging': None,\n",
       "  'delivery': 'download',\n",
       "  'record_count': None,\n",
       "  'billed_size': None,\n",
       "  'actual_size': None,\n",
       "  'package_size': None,\n",
       "  'state': 'queued',\n",
       "  'ts_received': '2023-05-09 23:15:43.320951+00:00',\n",
       "  'ts_queued': None,\n",
       "  'ts_process_start': None,\n",
       "  'ts_process_done': None,\n",
       "  'ts_expiration': None,\n",
       "  'progress': 0}]"
      ]
     },
     "execution_count": 0,
     "metadata": {},
     "output_type": "execute_result"
    }
   ],
   "source": [
    "client.batch.list_jobs(since=pd.Timestamp.utcnow() - pd.Timedelta(minutes=5))"
   ]
  },
  {
   "cell_type": "code",
   "execution_count": 0,
   "id": "91cf0d4a-d77c-4a97-bc23-405fff233e34",
   "metadata": {
    "tags": []
   },
   "outputs": [
    {
     "name": "stdout",
     "output_type": "stream",
     "text": [
      "Help on method download in module databento.historical.api.batch:\n",
      "\n",
      "download(output_dir: 'PathLike[str] | str', job_id: 'str', filename_to_download: 'str | None' = None, enable_partial_downloads: 'bool' = True) -> 'list[Path]' method of databento.historical.api.batch.BatchHttpAPI instance\n",
      "    Download a batch job or a specific file to `{output_dir}/{job_id}/`.\n",
      "    \n",
      "    Will automatically generate any necessary directories if they do not\n",
      "    already exist.\n",
      "    \n",
      "    Makes one or many `GET /batch/download/{job_id}/{filename}` HTTP request(s).\n",
      "    \n",
      "    Parameters\n",
      "    ----------\n",
      "    output_dir: PathLike or str\n",
      "        The directory to download the file(s) to.\n",
      "    job_id : str\n",
      "        The batch job identifier.\n",
      "    filename_to_download : str, optional\n",
      "        The specific file to download.\n",
      "        If `None` then will download all files for the batch job.\n",
      "    enable_partial_downloads : bool, default True\n",
      "        If partially downloaded files will be resumed using range request(s).\n",
      "    \n",
      "    Returns\n",
      "    -------\n",
      "    list[Path]\n",
      "        A list of paths to the downloaded files.\n",
      "    \n",
      "    Raises\n",
      "    ------\n",
      "    RuntimeError\n",
      "        If no files were found for the batch job.\n",
      "    ValueError\n",
      "        If a file fails to download.\n",
      "\n"
     ]
    }
   ],
   "source": [
    "help(client.batch.download)"
   ]
  },
  {
   "cell_type": "markdown",
   "id": "d091bc51-cce8-433c-9672-1b6b8c3f69b9",
   "metadata": {},
   "source": [
    "## Programmatic downloads\n",
    "Now that the batch job has compeleted (with a state of `done`), we can download the files by providing an output directory path, and the `job_id` (found above):"
   ]
  },
  {
   "cell_type": "code",
   "execution_count": 0,
   "id": "ba73c86b-7b35-4cb2-8ffb-baa4da803d70",
   "metadata": {
    "tags": []
   },
   "outputs": [
    {
     "data": {
      "text/plain": [
       "[PosixPath('mydata/GLBX-20230509-A4P34AC73L/manifest.json'),\n",
       " PosixPath('mydata/GLBX-20230509-A4P34AC73L/metadata.json'),\n",
       " PosixPath('mydata/GLBX-20230509-A4P34AC73L/glbx-mdp3-20201227.trades.dbn.zst'),\n",
       " PosixPath('mydata/GLBX-20230509-A4P34AC73L/glbx-mdp3-20201228.trades.dbn.zst')]"
      ]
     },
     "execution_count": 0,
     "metadata": {},
     "output_type": "execute_result"
    }
   ],
   "source": [
    "client.batch.download(output_dir=\"mydata\", job_id=new_job_id)"
   ]
  },
  {
   "cell_type": "markdown",
   "id": "c9912aed-1326-40a6-a803-189ccec598eb",
   "metadata": {},
   "source": [
    "Or, we can download a specific file for the job:"
   ]
  },
  {
   "cell_type": "code",
   "execution_count": 0,
   "id": "8a365853-8d1e-4a00-b69f-2b78cfa2548c",
   "metadata": {
    "tags": []
   },
   "outputs": [
    {
     "data": {
      "text/plain": [
       "[PosixPath('mydata/GLBX-20230509-A4P34AC73L/metadata.json')]"
      ]
     },
     "execution_count": 0,
     "metadata": {},
     "output_type": "execute_result"
    }
   ],
   "source": [
    "client.batch.download(output_dir=\"mydata\", job_id=new_job_id, filename_to_download=\"metadata.json\")"
   ]
  }
 ],
 "metadata": {
  "kernelspec": {
   "display_name": "Python 3 (ipykernel)",
   "language": "python",
   "name": "python3"
  },
  "language_info": {
   "codemirror_mode": {
    "name": "ipython",
    "version": 3
   },
   "file_extension": ".py",
   "mimetype": "text/x-python",
   "name": "python",
   "nbconvert_exporter": "python",
   "pygments_lexer": "ipython3",
   "version": "3.7.15"
  }
 },
 "nbformat": 4,
 "nbformat_minor": 5
}
